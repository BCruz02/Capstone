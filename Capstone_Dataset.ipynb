{
 "cells": [
  {
   "cell_type": "code",
   "execution_count": 2,
   "id": "eea5730b",
   "metadata": {},
   "outputs": [],
   "source": [
    "import pandas as pd"
   ]
  },
  {
   "cell_type": "code",
   "execution_count": null,
   "id": "0a8081e0",
   "metadata": {},
   "outputs": [],
   "source": [
    "#Importing dataset\n",
    "df = pd.read_excel(r\"C:\\Users\\Bcbra\\Downloads\\Annual-Arrivals-2000-to-Present–Country-of-Residence (2) (1).xlsx\", sheet_name=\"Annual\",engine='openpyxl')"
   ]
  },
  {
   "cell_type": "code",
   "execution_count": 4,
   "id": "63b51945",
   "metadata": {},
   "outputs": [],
   "source": [
    "# Renaming the First Column\n",
    "df.rename(columns={df.columns[0]: \"International Visitors\"}, inplace=True)\n",
    "\n",
    "# Dropping unessessary rows\n",
    "df = df.drop(index=[2,3,15,16,17,18])\n"
   ]
  },
  {
   "cell_type": "code",
   "execution_count": 5,
   "id": "3287634e",
   "metadata": {},
   "outputs": [],
   "source": [
    "# Dropping years before 2015\n",
    "years_to_drop = list(range(2000, 2015))\n",
    "columns_to_drop = [col for col in df.columns if isinstance(col, int) and col in years_to_drop]\n",
    "df.drop(columns=columns_to_drop, inplace=True)"
   ]
  },
  {
   "cell_type": "code",
   "execution_count": 6,
   "id": "597a299c",
   "metadata": {},
   "outputs": [],
   "source": [
    "# Saving cleaned DataFrame to a new Excel file\n",
    "df.to_excel(\"Cleaned_Tourism_Data.xlsx\", index=False)"
   ]
  },
  {
   "cell_type": "code",
   "execution_count": null,
   "id": "f09f0c05",
   "metadata": {},
   "outputs": [],
   "source": [
    "# Reshaping the dataset to long format for better Tableau use\n",
    "df_long = pd.melt(\n",
    "    df,\n",
    "    id_vars=[\"International Visitors\", \"World \\nRegion\"],\n",
    "    var_name=\"Year\",\n",
    "    value_name=\"Arrivals\"  \n",
    ")\n",
    "df_long[\"Year\"] = df_long[\"Year\"].astype(int) # Converted Year as an Intiger so \n",
    "\n",
    "print(df_long.columns) # Check to see format change"
   ]
  },
  {
   "cell_type": "code",
   "execution_count": 12,
   "id": "59a796c0",
   "metadata": {},
   "outputs": [],
   "source": [
    "df_long.to_excel(\"Long_Format_Toursim_Data.xlsx\", index=False)"
   ]
  },
  {
   "cell_type": "code",
   "execution_count": 27,
   "id": "94b39009",
   "metadata": {},
   "outputs": [],
   "source": [
    "# Importing 2nd sheet of dataset\n",
    "df_2nd = pd.read_excel(r\"C:\\Users\\Bcbra\\Downloads\\Annual-Arrivals-2000-to-Presesent-Percentage-Change-Yoy.xlsx\", sheet_name=\"Annual Y-o-Y Change\")\n",
    "\n",
    "# Reshaping the dataset to long format for better Tableau use\n",
    "df_2nd_long = pd.melt(\n",
    "    df_2nd,\n",
    "    id_vars=[\"International Visitors\", \"World \\nRegion\"],\n",
    "    var_name=\"Year\",\n",
    "    value_name=\"YoY_Percent_Change\"\n",
    ")\n",
    "# Making sure format is correct\n",
    "df_2nd_long[\"Year\"] = df_2nd_long[\"Year\"].astype(int)\n",
    "df_2nd_long[\"YoY_Percent_Change\"] = df_2nd_long[\"YoY_Percent_Change\"].astype(float)"
   ]
  },
  {
   "cell_type": "code",
   "execution_count": 25,
   "id": "6e31caca",
   "metadata": {},
   "outputs": [],
   "source": [
    "df_2nd_long.to_excel(\"YoY_Percent_Change_Long.xlsx\", index=False)"
   ]
  }
 ],
 "metadata": {
  "kernelspec": {
   "display_name": "Python 3",
   "language": "python",
   "name": "python3"
  },
  "language_info": {
   "codemirror_mode": {
    "name": "ipython",
    "version": 3
   },
   "file_extension": ".py",
   "mimetype": "text/x-python",
   "name": "python",
   "nbconvert_exporter": "python",
   "pygments_lexer": "ipython3",
   "version": "3.13.3"
  }
 },
 "nbformat": 4,
 "nbformat_minor": 5
}
